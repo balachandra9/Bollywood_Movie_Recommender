{
 "cells": [
  {
   "cell_type": "code",
   "execution_count": 1,
   "id": "f12a4339",
   "metadata": {},
   "outputs": [],
   "source": [
    "import pandas as pd\n",
    "import  numpy as np\n",
    "from sklearn.feature_extraction.text import TfidfVectorizer\n",
    "from sklearn.metrics.pairwise import cosine_similarity\n",
    "import networkx as nx"
   ]
  },
  {
   "cell_type": "code",
   "execution_count": 2,
   "id": "4e6b09f8",
   "metadata": {},
   "outputs": [
    {
     "name": "stdout",
     "output_type": "stream",
     "text": [
      "   Unnamed: 0     imdb-id         movie_name year_of_release  runtime  \\\n",
      "0           0  tt10811166  The Kashmir Files          (2022)  170 min   \n",
      "1           1   tt1187043           3 Idiots          (2009)  170 min   \n",
      "2           2   tt0986264   Taare Zameen Par          (2007)  165 min   \n",
      "3           3   tt5074352             Dangal          (2016)  161 min   \n",
      "4           4   tt2338151                 PK          (2014)  153 min   \n",
      "\n",
      "  IMDB_rating no_of_votes                                   plot_description  \\\n",
      "0         8.3     548,031  The Kashmir Files' is a story, based on video ...   \n",
      "1         8.4     387,020  Two friends are searching for their long lost ...   \n",
      "2         8.3     188,938  An eight-year-old boy is thought to be a lazy ...   \n",
      "3         8.3     183,452  Former wrestler Mahavir Singh Phogat and his t...   \n",
      "4         8.1     180,108  An alien on Earth loses the only device he can...   \n",
      "\n",
      "          director                                             actors  \n",
      "0  Vivek Agnihotri      Vivek Agnihotri|     Mithun Chakraborty, A...  \n",
      "1  Rajkumar Hirani      Rajkumar Hirani|     Aamir Khan, Madhavan,...  \n",
      "2       Aamir Khan      Aamir Khan, Amole Gupte|     Darsheel Safa...  \n",
      "3    Nitesh Tiwari      Nitesh Tiwari|     Aamir Khan, Sakshi Tanw...  \n",
      "4  Rajkumar Hirani      Rajkumar Hirani|     Aamir Khan, Anushka S...  \n"
     ]
    }
   ],
   "source": [
    "df = pd.read_csv('bollywood_data_set.csv')\n",
    "print(df.head())"
   ]
  },
  {
   "cell_type": "code",
   "execution_count": 3,
   "id": "f37a3a9d",
   "metadata": {
    "scrolled": true
   },
   "outputs": [
    {
     "data": {
      "text/plain": [
       "Index(['Unnamed: 0', 'imdb-id', 'movie_name', 'year_of_release', 'runtime',\n",
       "       'IMDB_rating', 'no_of_votes', 'plot_description', 'director', 'actors'],\n",
       "      dtype='object')"
      ]
     },
     "execution_count": 3,
     "metadata": {},
     "output_type": "execute_result"
    }
   ],
   "source": [
    "df.columns"
   ]
  },
  {
   "cell_type": "code",
   "execution_count": 4,
   "id": "73872a91",
   "metadata": {},
   "outputs": [],
   "source": [
    "df.rename(columns={'Unnamed: 0':'Unique_Id'}, inplace=True)"
   ]
  },
  {
   "cell_type": "code",
   "execution_count": 5,
   "id": "36ba0ed8",
   "metadata": {},
   "outputs": [
    {
     "data": {
      "text/plain": [
       "<bound method DataFrame.info of       Unique_Id     imdb-id            movie_name year_of_release  runtime  \\\n",
       "0             0  tt10811166     The Kashmir Files          (2022)  170 min   \n",
       "1             1   tt1187043              3 Idiots          (2009)  170 min   \n",
       "2             2   tt0986264      Taare Zameen Par          (2007)  165 min   \n",
       "3             3   tt5074352                Dangal          (2016)  161 min   \n",
       "4             4   tt2338151                    PK          (2014)  153 min   \n",
       "...         ...         ...                   ...             ...      ...   \n",
       "9994       9994   tt3509212         Shaadi Kar Lo          (1978)            \n",
       "9995       9995   tt3509194            Tatya Tope          (1978)            \n",
       "9996       9996   tt3509180      Trishala Ka Laal          (1978)            \n",
       "9997       9997   tt3509174  Karishma: Jamal Tree          (1982)            \n",
       "9998       9998   tt3509156     Main Tumhari Hoon          (1978)            \n",
       "\n",
       "     IMDB_rating no_of_votes  \\\n",
       "0            8.3     548,031   \n",
       "1            8.4     387,020   \n",
       "2            8.3     188,938   \n",
       "3            8.3     183,452   \n",
       "4            8.1     180,108   \n",
       "...          ...         ...   \n",
       "9994                           \n",
       "9995                           \n",
       "9996                           \n",
       "9997                           \n",
       "9998                           \n",
       "\n",
       "                                       plot_description         director  \\\n",
       "0     The Kashmir Files' is a story, based on video ...  Vivek Agnihotri   \n",
       "1     Two friends are searching for their long lost ...  Rajkumar Hirani   \n",
       "2     An eight-year-old boy is thought to be a lazy ...       Aamir Khan   \n",
       "3     Former wrestler Mahavir Singh Phogat and his t...    Nitesh Tiwari   \n",
       "4     An alien on Earth loses the only device he can...  Rajkumar Hirani   \n",
       "...                                                 ...              ...   \n",
       "9994                                         Add a Plot    Sandeep Mehta   \n",
       "9995                                         Add a Plot    Sandeep Mehta   \n",
       "9996                                         Add a Plot      Ketan Anand   \n",
       "9997                                         Add a Plot      Ketan Anand   \n",
       "9998                                         Add a Plot      Ketan Anand   \n",
       "\n",
       "                                                 actors  \n",
       "0         Vivek Agnihotri|     Mithun Chakraborty, A...  \n",
       "1         Rajkumar Hirani|     Aamir Khan, Madhavan,...  \n",
       "2         Aamir Khan, Amole Gupte|     Darsheel Safa...  \n",
       "3         Nitesh Tiwari|     Aamir Khan, Sakshi Tanw...  \n",
       "4         Rajkumar Hirani|     Aamir Khan, Anushka S...  \n",
       "...                                                 ...  \n",
       "9994                                                NaN  \n",
       "9995                                                NaN  \n",
       "9996                                        Ketan Anand  \n",
       "9997                                                NaN  \n",
       "9998                                                NaN  \n",
       "\n",
       "[9999 rows x 10 columns]>"
      ]
     },
     "execution_count": 5,
     "metadata": {},
     "output_type": "execute_result"
    }
   ],
   "source": [
    "df.info"
   ]
  },
  {
   "cell_type": "code",
   "execution_count": 6,
   "id": "ad121e65",
   "metadata": {
    "scrolled": true
   },
   "outputs": [
    {
     "name": "stdout",
     "output_type": "stream",
     "text": [
      "   Unique_Id     imdb-id         movie_name year_of_release  runtime  \\\n",
      "0          0  tt10811166  The Kashmir Files          (2022)  170 min   \n",
      "1          1   tt1187043           3 Idiots          (2009)  170 min   \n",
      "2          2   tt0986264   Taare Zameen Par          (2007)  165 min   \n",
      "3          3   tt5074352             Dangal          (2016)  161 min   \n",
      "4          4   tt2338151                 PK          (2014)  153 min   \n",
      "\n",
      "  IMDB_rating no_of_votes                                   plot_description  \\\n",
      "0         8.3     548,031  The Kashmir Files' is a story, based on video ...   \n",
      "1         8.4     387,020  Two friends are searching for their long lost ...   \n",
      "2         8.3     188,938  An eight-year-old boy is thought to be a lazy ...   \n",
      "3         8.3     183,452  Former wrestler Mahavir Singh Phogat and his t...   \n",
      "4         8.1     180,108  An alien on Earth loses the only device he can...   \n",
      "\n",
      "          director                                             actors  \n",
      "0  Vivek Agnihotri      Vivek Agnihotri|     Mithun Chakraborty, A...  \n",
      "1  Rajkumar Hirani      Rajkumar Hirani|     Aamir Khan, Madhavan,...  \n",
      "2       Aamir Khan      Aamir Khan, Amole Gupte|     Darsheel Safa...  \n",
      "3    Nitesh Tiwari      Nitesh Tiwari|     Aamir Khan, Sakshi Tanw...  \n",
      "4  Rajkumar Hirani      Rajkumar Hirani|     Aamir Khan, Anushka S...  \n"
     ]
    }
   ],
   "source": [
    "print(df.head())"
   ]
  },
  {
   "cell_type": "code",
   "execution_count": 7,
   "id": "ca2d5cb2",
   "metadata": {},
   "outputs": [
    {
     "name": "stdout",
     "output_type": "stream",
     "text": [
      "                      director  \\\n",
      "0              Vivek Agnihotri   \n",
      "1              Rajkumar Hirani   \n",
      "2      Aamir Khan, Amole Gupte   \n",
      "3                Nitesh Tiwari   \n",
      "4              Rajkumar Hirani   \n",
      "\n",
      "                                              actors  \n",
      "0       Mithun Chakraborty, Anupam Kher, Darshan ...  \n",
      "1       Aamir Khan, Madhavan, Mona Singh, Sharman...  \n",
      "2       Darsheel Safary, Aamir Khan, Tisca Chopra...  \n",
      "3       Aamir Khan, Sakshi Tanwar, Fatima Sana Sh...  \n",
      "4       Aamir Khan, Anushka Sharma, Sanjay Dutt, ...  \n"
     ]
    }
   ],
   "source": [
    "# Split 'actors' column into two separate columns: 'director' and 'actors'\n",
    "df[['director', 'actors']] = df['actors'].str.split('|', expand=True)\n",
    "\n",
    "print(df[['director', 'actors']].head())"
   ]
  },
  {
   "cell_type": "code",
   "execution_count": 8,
   "id": "ec26f6f8",
   "metadata": {},
   "outputs": [],
   "source": [
    "df['director'].fillna('Unknown', inplace=True)"
   ]
  },
  {
   "cell_type": "code",
   "execution_count": 9,
   "id": "bf5dda21",
   "metadata": {
    "scrolled": true
   },
   "outputs": [
    {
     "name": "stdout",
     "output_type": "stream",
     "text": [
      "Unique_Id           9999\n",
      "imdb-id             9999\n",
      "movie_name          9999\n",
      "year_of_release     9799\n",
      "runtime             9999\n",
      "IMDB_rating         9999\n",
      "no_of_votes         9999\n",
      "plot_description    9999\n",
      "director            9999\n",
      "actors              8648\n",
      "dtype: int64\n"
     ]
    }
   ],
   "source": [
    "# Count the number of non-null values in each column\n",
    "row_counts = df.count()\n",
    "print(row_counts)"
   ]
  },
  {
   "cell_type": "code",
   "execution_count": 10,
   "id": "f3bfeffa",
   "metadata": {},
   "outputs": [],
   "source": [
    "# Remove parentheses from 'year_of_release' column\n",
    "df['year_of_release'] = df['year_of_release'].str.strip('()')  # Remove parentheses\n",
    "\n",
    "# Convert 'year_of_release' to numeric (integer)\n",
    "df['year_of_release'] = pd.to_numeric(df['year_of_release'], errors='coerce')  # Coerce invalid parsing to NaN\n",
    "df['year_of_release'] = df['year_of_release'].fillna(0).astype(int)  # Fill NaNs with 0 and convert to int\n",
    "\n",
    "\n",
    "df['IMDB_rating'] = pd.to_numeric(df['IMDB_rating'], errors='coerce')  # Convert to float\n",
    "\n",
    "df['no_of_votes'] = df['no_of_votes'].str.replace(',', '')      # Remove commas\n",
    "df['no_of_votes'] = pd.to_numeric(df['no_of_votes'], errors='coerce').fillna(0).astype(int)\n",
    "\n",
    "df['actors'].fillna('Unknown', inplace=True)  # Replace NaN with 'Unknown'\n"
   ]
  },
  {
   "cell_type": "code",
   "execution_count": 11,
   "id": "a0ad10f1",
   "metadata": {},
   "outputs": [
    {
     "name": "stdout",
     "output_type": "stream",
     "text": [
      "Unique_Id             int64\n",
      "imdb-id              object\n",
      "movie_name           object\n",
      "year_of_release       int32\n",
      "runtime              object\n",
      "IMDB_rating         float64\n",
      "no_of_votes           int32\n",
      "plot_description     object\n",
      "director             object\n",
      "actors               object\n",
      "dtype: object\n"
     ]
    }
   ],
   "source": [
    "print(df.dtypes)"
   ]
  },
  {
   "cell_type": "code",
   "execution_count": 12,
   "id": "a9c1ef13",
   "metadata": {},
   "outputs": [
    {
     "name": "stdout",
     "output_type": "stream",
     "text": [
      "Rows to be removed: 0\n"
     ]
    }
   ],
   "source": [
    "# Count the rows that satisfy all conditions\n",
    "count_to_remove = df[(df['IMDB_rating'].isnull()) & \n",
    "                     (df['no_of_votes'].isnull()) & \n",
    "                     (df['plot_description'] == 'Add a Plot') & \n",
    "                     (df['director'] == 'Unknown') & \n",
    "                     (df['actors'] == 'Unknown')].shape[0]\n",
    "\n",
    "# Print the count of rows that would be removed\n",
    "print(f\"Rows to be removed: {count_to_remove}\")\n"
   ]
  },
  {
   "cell_type": "code",
   "execution_count": 13,
   "id": "bbed58cc",
   "metadata": {
    "scrolled": true
   },
   "outputs": [
    {
     "name": "stdout",
     "output_type": "stream",
     "text": [
      "Unique_Id              0\n",
      "imdb-id                0\n",
      "movie_name             0\n",
      "year_of_release        0\n",
      "runtime                0\n",
      "IMDB_rating         2342\n",
      "no_of_votes            0\n",
      "plot_description       0\n",
      "director               0\n",
      "actors                 0\n",
      "dtype: int64\n"
     ]
    }
   ],
   "source": [
    "# Remove rows that satisfy all conditions\n",
    "df = df[~((df['IMDB_rating'].isnull()) & \n",
    "          (df['no_of_votes'].isnull()) & \n",
    "          (df['plot_description'] == 'Add a Plot') & \n",
    "          (df['director'] == 'Unknown') & \n",
    "          (df['actors'] == 'Unknown'))]\n",
    "\n",
    "print(df.isnull().sum()) "
   ]
  },
  {
   "cell_type": "code",
   "execution_count": 14,
   "id": "a10a1155",
   "metadata": {},
   "outputs": [
    {
     "name": "stdout",
     "output_type": "stream",
     "text": [
      "['170 min' '165 min' '161 min' '153 min' '136 min' '135 min' '101 min'\n",
      " '167 min' '224 min' '133 min' '321 min' '139 min' '210 min' '163 min'\n",
      " '151 min' '156 min' '155 min' '145 min' '134 min' '183 min' '186 min'\n",
      " '146 min' '122 min' '123 min' '138 min' '125 min' '152 min' '159 min'\n",
      " '141 min' '130 min' '144 min' '104 min' '204 min' '160 min' '198 min'\n",
      " '184 min' '148 min' '192 min' '177 min' '143 min' '172 min' '142 min'\n",
      " '162 min' '140 min' '185 min' '103 min' '164 min' '154 min' '149 min'\n",
      " '132 min' '178 min' '180 min' '179 min' '112 min' '158 min' '147 min'\n",
      " '124 min' '128 min' '168 min' '126 min' '213 min' '173 min' '150 min'\n",
      " '216 min' '175 min' '109 min' '118 min' '120 min' '129 min' '114 min'\n",
      " '174 min' '137 min' '113 min' '171 min' '116 min' '176 min' '206 min'\n",
      " '193 min' '106 min' '188 min' '157 min' '166 min' '181 min' '187 min'\n",
      " '119 min' '115 min' '117 min' '191 min' '108 min' '100 min' '105 min'\n",
      " '95 min' '94 min' '107 min' '197 min' '99 min' '121 min' '131 min'\n",
      " '127 min' '110 min' '169 min' '83 min' '102 min' '96 min' '111 min'\n",
      " '98 min' '80 min' '88 min' '90 min' '77 min' '190 min' '255 min' '93 min'\n",
      " '189 min' '97 min' '182 min' '195 min' '92 min' '202 min' '86 min'\n",
      " '89 min' '91 min' ' ' '207 min' '238 min' '208 min' '87 min' '82 min'\n",
      " '68 min' '84 min' '78 min' '85 min' '199 min' '65 min' '214 min' '72 min'\n",
      " '57 min' '60 min' '50 min' '48 min' '79 min' '201 min' '222 min'\n",
      " '247 min' '45 min' '74 min' '200 min' '75 min' '76 min' '67 min' '55 min'\n",
      " '223 min' '62 min' '52 min' '47 min' '66 min' '49 min' '235 min' '70 min'\n",
      " '240 min' '217 min' '81 min' '69 min' '64 min' '73 min' '61 min' '63 min'\n",
      " '211 min' '46 min' '51 min' '250 min' '71 min' '56 min' '58 min' '59 min'\n",
      " '298 min' '54 min' '53 min' '1,179 min' '34 min']\n",
      "object\n"
     ]
    }
   ],
   "source": [
    "print(df['runtime'].unique())\n",
    "print(df['runtime'].dtype)"
   ]
  },
  {
   "cell_type": "code",
   "execution_count": 15,
   "id": "77a427d4",
   "metadata": {},
   "outputs": [
    {
     "name": "stdout",
     "output_type": "stream",
     "text": [
      "[ 170  165  161  153  136  135  101  167  224  133  321  139  210  163\n",
      "  151  156  155  145  134  183  186  146  122  123  138  125  152  159\n",
      "  141  130  144  104  204  160  198  184  148  192  177  143  172  142\n",
      "  162  140  185  103  164  154  149  132  178  180  179  112  158  147\n",
      "  124  128  168  126  213  173  150  216  175  109  118  120  129  114\n",
      "  174  137  113  171  116  176  206  193  106  188  157  166  181  187\n",
      "  119  115  117  191  108  100  105   95   94  107  197   99  121  131\n",
      "  127  110  169   83  102   96  111   98   80   88   90   77  190  255\n",
      "   93  189   97  182  195   92  202   86   89   91    0  207  238  208\n",
      "   87   82   68   84   78   85  199   65  214   72   57   60   50   48\n",
      "   79  201  222  247   45   74  200   75   76   67   55  223   62   52\n",
      "   47   66   49  235   70  240  217   81   69   64   73   61   63  211\n",
      "   46   51  250   71   56   58   59  298   54   53 1179   34]\n",
      "int32\n"
     ]
    }
   ],
   "source": [
    "# Remove the ' min' string and commas from the 'runtime' column\n",
    "df['runtime'] = df['runtime'].str.replace(' min', '')  # Remove ' min'\n",
    "df['runtime'] = df['runtime'].str.replace(',', '')     # Remove commas\n",
    "\n",
    "# Convert 'runtime' to numeric (integer) type, coercing any invalid entries to NaN\n",
    "df['runtime'] = pd.to_numeric(df['runtime'], errors='coerce')\n",
    "\n",
    "# Handle missing values by filling them with a default value, e.g., 0 or the mean runtime\n",
    "df['runtime'].fillna(0, inplace=True)  # Replace NaN with 0 (you can choose a different default if needed)\n",
    "\n",
    "# Convert to integer\n",
    "df['runtime'] = df['runtime'].astype(int)\n",
    "\n",
    "# Print the unique values to confirm\n",
    "print(df['runtime'].unique())\n",
    "print(df['runtime'].dtype)\n",
    "\n",
    "\n"
   ]
  },
  {
   "cell_type": "code",
   "execution_count": 16,
   "id": "243bb210",
   "metadata": {
    "scrolled": false
   },
   "outputs": [],
   "source": [
    "from sklearn.linear_model import LinearRegression\n",
    "\n",
    "# Split data into train and test sets\n",
    "train_data = df[df['IMDB_rating'].notna()]\n",
    "test_data = df[df['IMDB_rating'].isna()]\n",
    "\n",
    "# Select features and target\n",
    "features = ['runtime', 'year_of_release', 'no_of_votes']  # Add other features as necessary\n",
    "target = 'IMDB_rating'\n",
    "\n",
    "# Train a regression model\n",
    "model = LinearRegression()\n",
    "model.fit(train_data[features], train_data[target])\n",
    "\n",
    "# Predict missing IMDB_rating values\n",
    "predicted_ratings = model.predict(test_data[features])\n",
    "\n",
    "# Fill missing values with the predicted ratings\n",
    "df.loc[df['IMDB_rating'].isna(), 'IMDB_rating'] = predicted_ratings\n",
    "\n"
   ]
  },
  {
   "cell_type": "code",
   "execution_count": 17,
   "id": "e2ac3fa3",
   "metadata": {},
   "outputs": [
    {
     "name": "stdout",
     "output_type": "stream",
     "text": [
      "Unique_Id           0\n",
      "imdb-id             0\n",
      "movie_name          0\n",
      "year_of_release     0\n",
      "runtime             0\n",
      "IMDB_rating         0\n",
      "no_of_votes         0\n",
      "plot_description    0\n",
      "director            0\n",
      "actors              0\n",
      "dtype: int64\n",
      "Unique_Id             int64\n",
      "imdb-id              object\n",
      "movie_name           object\n",
      "year_of_release       int32\n",
      "runtime               int32\n",
      "IMDB_rating         float64\n",
      "no_of_votes           int32\n",
      "plot_description     object\n",
      "director             object\n",
      "actors               object\n",
      "dtype: object\n"
     ]
    }
   ],
   "source": [
    "print(df.isnull().sum())\n",
    "print(df.dtypes)"
   ]
  },
  {
   "cell_type": "code",
   "execution_count": 18,
   "id": "50486818",
   "metadata": {},
   "outputs": [],
   "source": [
    "import pandas as pd\n",
    "df.to_csv('preprocessed_data.csv', index=False)"
   ]
  },
  {
   "cell_type": "code",
   "execution_count": 19,
   "id": "1cc089a3",
   "metadata": {},
   "outputs": [],
   "source": [
    "#movie_name\n",
    "#year_of_release\n",
    "#IMDB_rating\n",
    "#no_of_votes \n",
    "#plot_description\n",
    "#director\n",
    "#actors\n",
    "#imdb-id\n",
    "df = df[['imdb-id','movie_name','plot_description','director','actors','IMDB_rating','no_of_votes','year_of_release']]"
   ]
  },
  {
   "cell_type": "code",
   "execution_count": 20,
   "id": "5eabee61",
   "metadata": {
    "scrolled": false
   },
   "outputs": [
    {
     "data": {
      "text/html": [
       "<div>\n",
       "<style scoped>\n",
       "    .dataframe tbody tr th:only-of-type {\n",
       "        vertical-align: middle;\n",
       "    }\n",
       "\n",
       "    .dataframe tbody tr th {\n",
       "        vertical-align: top;\n",
       "    }\n",
       "\n",
       "    .dataframe thead th {\n",
       "        text-align: right;\n",
       "    }\n",
       "</style>\n",
       "<table border=\"1\" class=\"dataframe\">\n",
       "  <thead>\n",
       "    <tr style=\"text-align: right;\">\n",
       "      <th></th>\n",
       "      <th>imdb-id</th>\n",
       "      <th>movie_name</th>\n",
       "      <th>plot_description</th>\n",
       "      <th>director</th>\n",
       "      <th>actors</th>\n",
       "      <th>IMDB_rating</th>\n",
       "      <th>no_of_votes</th>\n",
       "      <th>year_of_release</th>\n",
       "    </tr>\n",
       "  </thead>\n",
       "  <tbody>\n",
       "    <tr>\n",
       "      <th>0</th>\n",
       "      <td>tt10811166</td>\n",
       "      <td>The Kashmir Files</td>\n",
       "      <td>The Kashmir Files' is a story, based on video ...</td>\n",
       "      <td>Vivek Agnihotri</td>\n",
       "      <td>Mithun Chakraborty, Anupam Kher, Darshan ...</td>\n",
       "      <td>8.3</td>\n",
       "      <td>548031</td>\n",
       "      <td>2022</td>\n",
       "    </tr>\n",
       "  </tbody>\n",
       "</table>\n",
       "</div>"
      ],
      "text/plain": [
       "      imdb-id         movie_name  \\\n",
       "0  tt10811166  The Kashmir Files   \n",
       "\n",
       "                                    plot_description             director  \\\n",
       "0  The Kashmir Files' is a story, based on video ...      Vivek Agnihotri   \n",
       "\n",
       "                                              actors  IMDB_rating  \\\n",
       "0       Mithun Chakraborty, Anupam Kher, Darshan ...          8.3   \n",
       "\n",
       "   no_of_votes  year_of_release  \n",
       "0       548031             2022  "
      ]
     },
     "execution_count": 20,
     "metadata": {},
     "output_type": "execute_result"
    }
   ],
   "source": [
    "df.head(1)"
   ]
  },
  {
   "cell_type": "code",
   "execution_count": 21,
   "id": "b083d05b",
   "metadata": {},
   "outputs": [],
   "source": [
    "df['plot_description'] = df['plot_description'].apply(lambda x:x.split())\n",
    "df['actors'] = list(df['actors'].apply(lambda x:x.split(\",\")))\n",
    "df['director'] = list(df['director'].apply(lambda x:x.split(\",\")))"
   ]
  },
  {
   "cell_type": "code",
   "execution_count": 22,
   "id": "2ae7ca0c",
   "metadata": {},
   "outputs": [],
   "source": [
    "df['actors'] = df['actors'].apply(lambda x:[i.replace(\" \",\"\") for i in x])\n",
    "df['director'] = df['director'].apply(lambda x:[i.replace(\" \",\"\") for i in x])"
   ]
  },
  {
   "cell_type": "code",
   "execution_count": 23,
   "id": "ee62806c",
   "metadata": {},
   "outputs": [],
   "source": [
    "df['tags'] = df['plot_description'] + df['actors'] + df['director']"
   ]
  },
  {
   "cell_type": "code",
   "execution_count": 24,
   "id": "f60383a8",
   "metadata": {},
   "outputs": [],
   "source": [
    "new_df = df[['imdb-id','movie_name','tags','year_of_release','no_of_votes','IMDB_rating']]"
   ]
  },
  {
   "cell_type": "code",
   "execution_count": 25,
   "id": "2a3ec8a9",
   "metadata": {},
   "outputs": [
    {
     "data": {
      "text/html": [
       "<div>\n",
       "<style scoped>\n",
       "    .dataframe tbody tr th:only-of-type {\n",
       "        vertical-align: middle;\n",
       "    }\n",
       "\n",
       "    .dataframe tbody tr th {\n",
       "        vertical-align: top;\n",
       "    }\n",
       "\n",
       "    .dataframe thead th {\n",
       "        text-align: right;\n",
       "    }\n",
       "</style>\n",
       "<table border=\"1\" class=\"dataframe\">\n",
       "  <thead>\n",
       "    <tr style=\"text-align: right;\">\n",
       "      <th></th>\n",
       "      <th>imdb-id</th>\n",
       "      <th>movie_name</th>\n",
       "      <th>tags</th>\n",
       "      <th>year_of_release</th>\n",
       "      <th>no_of_votes</th>\n",
       "      <th>IMDB_rating</th>\n",
       "    </tr>\n",
       "  </thead>\n",
       "  <tbody>\n",
       "    <tr>\n",
       "      <th>0</th>\n",
       "      <td>tt10811166</td>\n",
       "      <td>The Kashmir Files</td>\n",
       "      <td>[The, Kashmir, Files', is, a, story,, based, o...</td>\n",
       "      <td>2022</td>\n",
       "      <td>548031</td>\n",
       "      <td>8.3</td>\n",
       "    </tr>\n",
       "    <tr>\n",
       "      <th>1</th>\n",
       "      <td>tt1187043</td>\n",
       "      <td>3 Idiots</td>\n",
       "      <td>[Two, friends, are, searching, for, their, lon...</td>\n",
       "      <td>2009</td>\n",
       "      <td>387020</td>\n",
       "      <td>8.4</td>\n",
       "    </tr>\n",
       "    <tr>\n",
       "      <th>2</th>\n",
       "      <td>tt0986264</td>\n",
       "      <td>Taare Zameen Par</td>\n",
       "      <td>[An, eight-year-old, boy, is, thought, to, be,...</td>\n",
       "      <td>2007</td>\n",
       "      <td>188938</td>\n",
       "      <td>8.3</td>\n",
       "    </tr>\n",
       "    <tr>\n",
       "      <th>3</th>\n",
       "      <td>tt5074352</td>\n",
       "      <td>Dangal</td>\n",
       "      <td>[Former, wrestler, Mahavir, Singh, Phogat, and...</td>\n",
       "      <td>2016</td>\n",
       "      <td>183452</td>\n",
       "      <td>8.3</td>\n",
       "    </tr>\n",
       "    <tr>\n",
       "      <th>4</th>\n",
       "      <td>tt2338151</td>\n",
       "      <td>PK</td>\n",
       "      <td>[An, alien, on, Earth, loses, the, only, devic...</td>\n",
       "      <td>2014</td>\n",
       "      <td>180108</td>\n",
       "      <td>8.1</td>\n",
       "    </tr>\n",
       "  </tbody>\n",
       "</table>\n",
       "</div>"
      ],
      "text/plain": [
       "      imdb-id         movie_name  \\\n",
       "0  tt10811166  The Kashmir Files   \n",
       "1   tt1187043           3 Idiots   \n",
       "2   tt0986264   Taare Zameen Par   \n",
       "3   tt5074352             Dangal   \n",
       "4   tt2338151                 PK   \n",
       "\n",
       "                                                tags  year_of_release  \\\n",
       "0  [The, Kashmir, Files', is, a, story,, based, o...             2022   \n",
       "1  [Two, friends, are, searching, for, their, lon...             2009   \n",
       "2  [An, eight-year-old, boy, is, thought, to, be,...             2007   \n",
       "3  [Former, wrestler, Mahavir, Singh, Phogat, and...             2016   \n",
       "4  [An, alien, on, Earth, loses, the, only, devic...             2014   \n",
       "\n",
       "   no_of_votes  IMDB_rating  \n",
       "0       548031          8.3  \n",
       "1       387020          8.4  \n",
       "2       188938          8.3  \n",
       "3       183452          8.3  \n",
       "4       180108          8.1  "
      ]
     },
     "execution_count": 25,
     "metadata": {},
     "output_type": "execute_result"
    }
   ],
   "source": [
    "new_df.head()"
   ]
  },
  {
   "cell_type": "code",
   "execution_count": 26,
   "id": "cfe54580",
   "metadata": {},
   "outputs": [],
   "source": [
    "import warnings\n",
    "warnings.filterwarnings('ignore')\n",
    "new_df['tags'] = new_df['tags'].apply(lambda x:\" \".join(x))"
   ]
  },
  {
   "cell_type": "code",
   "execution_count": 27,
   "id": "02b123bc",
   "metadata": {},
   "outputs": [],
   "source": [
    "new_df['tags'] = new_df['tags'].apply(lambda x:x.lower())"
   ]
  },
  {
   "cell_type": "code",
   "execution_count": 28,
   "id": "d3ad75c0",
   "metadata": {},
   "outputs": [
    {
     "data": {
      "text/plain": [
       "\"the kashmir files' is a story, based on video interviews of the first generation victims of the genocide of kashmiri pandit community in 1990. mithunchakraborty anupamkher darshankumaar pallavijoshi vivekagnihotri\""
      ]
     },
     "execution_count": 28,
     "metadata": {},
     "output_type": "execute_result"
    }
   ],
   "source": [
    "new_df['tags'][0]"
   ]
  },
  {
   "cell_type": "code",
   "execution_count": 29,
   "id": "981e914d",
   "metadata": {},
   "outputs": [],
   "source": [
    "from sklearn.feature_extraction.text import CountVectorizer\n",
    "cv = CountVectorizer(max_features = 5000,stop_words='english')"
   ]
  },
  {
   "cell_type": "code",
   "execution_count": 30,
   "id": "326ed14b",
   "metadata": {},
   "outputs": [],
   "source": [
    "vectors = cv.fit_transform(new_df['tags']).toarray()"
   ]
  },
  {
   "cell_type": "code",
   "execution_count": 31,
   "id": "6c3da76b",
   "metadata": {},
   "outputs": [
    {
     "name": "stdout",
     "output_type": "stream",
     "text": [
      "Requirement already satisfied: nltk in c:\\users\\balu\\anaconda3\\lib\\site-packages (3.8.1)\n",
      "Requirement already satisfied: click in c:\\users\\balu\\anaconda3\\lib\\site-packages (from nltk) (8.0.4)\n",
      "Requirement already satisfied: joblib in c:\\users\\balu\\anaconda3\\lib\\site-packages (from nltk) (1.2.0)\n",
      "Requirement already satisfied: regex>=2021.8.3 in c:\\users\\balu\\anaconda3\\lib\\site-packages (from nltk) (2022.7.9)\n",
      "Requirement already satisfied: tqdm in c:\\users\\balu\\anaconda3\\lib\\site-packages (from nltk) (4.66.4)\n",
      "Requirement already satisfied: colorama in c:\\users\\balu\\anaconda3\\lib\\site-packages (from click->nltk) (0.4.6)\n"
     ]
    }
   ],
   "source": [
    "!pip install nltk"
   ]
  },
  {
   "cell_type": "code",
   "execution_count": 32,
   "id": "e76d3aec",
   "metadata": {},
   "outputs": [],
   "source": [
    "import nltk"
   ]
  },
  {
   "cell_type": "code",
   "execution_count": 33,
   "id": "51fa747a",
   "metadata": {},
   "outputs": [],
   "source": [
    "from nltk.stem.porter import PorterStemmer\n",
    "ps = PorterStemmer()"
   ]
  },
  {
   "cell_type": "code",
   "execution_count": 34,
   "id": "db58923d",
   "metadata": {},
   "outputs": [],
   "source": [
    "def stem(text):\n",
    "    y = []\n",
    "    for i in text.split():\n",
    "        y.append(ps.stem(i))\n",
    "    return \" \".join(y)"
   ]
  },
  {
   "cell_type": "code",
   "execution_count": 35,
   "id": "31682d81",
   "metadata": {},
   "outputs": [
    {
     "data": {
      "text/plain": [
       "'run'"
      ]
     },
     "execution_count": 35,
     "metadata": {},
     "output_type": "execute_result"
    }
   ],
   "source": [
    "ps.stem('running')"
   ]
  },
  {
   "cell_type": "code",
   "execution_count": 36,
   "id": "cf6b48fa",
   "metadata": {},
   "outputs": [],
   "source": [
    "new_df['tags'] = new_df['tags'].apply(stem)"
   ]
  },
  {
   "cell_type": "code",
   "execution_count": 37,
   "id": "6ca0b263",
   "metadata": {},
   "outputs": [
    {
     "data": {
      "text/plain": [
       "array([1., 0., 0., ..., 0., 0., 0.])"
      ]
     },
     "execution_count": 37,
     "metadata": {},
     "output_type": "execute_result"
    }
   ],
   "source": [
    "from sklearn.metrics.pairwise import cosine_similarity\n",
    "similarity = cosine_similarity(vectors)\n",
    "similarity[0]"
   ]
  },
  {
   "cell_type": "code",
   "execution_count": 38,
   "id": "0eccf694",
   "metadata": {},
   "outputs": [
    {
     "data": {
      "text/plain": [
       "[(7943, 0.3307189138830738), (1401, 0.3125), (4239, 0.3061862178478973)]"
      ]
     },
     "execution_count": 38,
     "metadata": {},
     "output_type": "execute_result"
    }
   ],
   "source": [
    "sorted(list(enumerate(similarity[0])),reverse=True,key=lambda x:x[1])[1:4]"
   ]
  },
  {
   "cell_type": "code",
   "execution_count": 39,
   "id": "13a392f7",
   "metadata": {},
   "outputs": [
    {
     "data": {
      "text/plain": [
       "4"
      ]
     },
     "execution_count": 39,
     "metadata": {},
     "output_type": "execute_result"
    }
   ],
   "source": [
    "new_df[new_df['movie_name'] == 'PK'].index[0]"
   ]
  },
  {
   "cell_type": "code",
   "execution_count": 40,
   "id": "06eb183e",
   "metadata": {},
   "outputs": [],
   "source": [
    "def recommend(movie):\n",
    "    movie_index = new_df[new_df['movie_name'] == movie].index[0]\n",
    "    distances = similarity[movie_index]\n",
    "    movies_list = sorted(list(enumerate(distances)),reverse=True,key=lambda x:x[1])[1:4]\n",
    "    \n",
    "    for i in movies_list:\n",
    "        \n",
    "        print(new_df.iloc[i[0]].movie_name)"
   ]
  },
  {
   "cell_type": "code",
   "execution_count": 41,
   "id": "bc8f5503",
   "metadata": {},
   "outputs": [
    {
     "data": {
      "text/plain": [
       "'Takkari Donga'"
      ]
     },
     "execution_count": 41,
     "metadata": {},
     "output_type": "execute_result"
    }
   ],
   "source": [
    "new_df.iloc[1216].movie_name"
   ]
  },
  {
   "cell_type": "code",
   "execution_count": 42,
   "id": "f5131d2d",
   "metadata": {},
   "outputs": [
    {
     "name": "stdout",
     "output_type": "stream",
     "text": [
      "Jango\n",
      "Dharma\n",
      "Shehzaade\n"
     ]
    }
   ],
   "source": [
    "recommend('Dangal')"
   ]
  },
  {
   "cell_type": "code",
   "execution_count": 43,
   "id": "630ddd6b",
   "metadata": {},
   "outputs": [],
   "source": [
    "import pickle\n",
    "pickle.dump(new_df,open('movies.pkl','wb'))\n",
    "pickle.dump(new_df.to_dict(),open('movie_dict.pkl','wb'))\n",
    "pickle.dump(similarity,open('similarity.pkl','wb'))"
   ]
  },
  {
   "cell_type": "code",
   "execution_count": null,
   "id": "550ce543",
   "metadata": {},
   "outputs": [],
   "source": []
  }
 ],
 "metadata": {
  "kernelspec": {
   "display_name": "Python 3 (ipykernel)",
   "language": "python",
   "name": "python3"
  },
  "language_info": {
   "codemirror_mode": {
    "name": "ipython",
    "version": 3
   },
   "file_extension": ".py",
   "mimetype": "text/x-python",
   "name": "python",
   "nbconvert_exporter": "python",
   "pygments_lexer": "ipython3",
   "version": "3.11.4"
  }
 },
 "nbformat": 4,
 "nbformat_minor": 5
}
